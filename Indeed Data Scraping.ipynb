{
 "cells": [
  {
   "cell_type": "markdown",
   "id": "f1ea984f",
   "metadata": {},
   "source": [
    "# Scraping job data from Indeed"
   ]
  },
  {
   "cell_type": "code",
   "execution_count": 4,
   "id": "701c8141",
   "metadata": {},
   "outputs": [],
   "source": [
    "from bs4 import BeautifulSoup\n",
    "import requests\n",
    "from datetime import datetime\n",
    "import csv"
   ]
  },
  {
   "cell_type": "code",
   "execution_count": 7,
   "id": "098a7b23",
   "metadata": {},
   "outputs": [],
   "source": [
    "# Function to get the url for a particular job in a particular location\n",
    "def url_builder(position, location):\n",
    "    template = 'https://in.indeed.com/jobs?q={}&l={}'\n",
    "    url = template.format(position, location)\n",
    "    return url\n",
    "\n",
    "# Function to extract the necessary information from a job posting\n",
    "def job_information_extractor(card):\n",
    "    atag = card.h2.span\n",
    "    job_title = atag.get('title')\n",
    "    job_url = 'https://in.indeed.com/' + card.h2.a.get('href')\n",
    "    company = card.find('span', 'companyName').text.strip()\n",
    "    job_location = card.find('div', 'companyLocation').text.strip()\n",
    "    job_summary = card.find('div', 'job-snippet').text.strip()\n",
    "    post_date = card.find('span', 'date').text\n",
    "    try:\n",
    "        job_salary = card.find('div', 'attribute_snippet').text.strip()\n",
    "    except AttributeError:\n",
    "        job_salary = ''\n",
    "        \n",
    "    record = [job_title, company, job_location, job_summary, post_date, job_salary, job_url]\n",
    "    return record\n",
    "\n",
    "# Function to be called for generating a CSV file with all the relevant information\n",
    "def main_job_postings_information(position, location):\n",
    "    records = []\n",
    "    url = url_builder(position, location)\n",
    "    \n",
    "    # The while loop is meant for moving through the pages of job postings.\n",
    "    while True:\n",
    "        response = requests.get(url)\n",
    "        soup = BeautifulSoup(response.text, 'html.parser')\n",
    "        cards = soup.find_all('div', 'slider_container css-11g4k3a eu4oa1w0')\n",
    "        \n",
    "    # This for loop is meant to move through the job postings in a particular page.\n",
    "        for card in cards:\n",
    "            record = job_information_extractor(card)\n",
    "            records.append(record)\n",
    "        \n",
    "        # This block of code checks if there is a next page\n",
    "        try:\n",
    "            url = 'https://in.indeed.com/' + soup.find('a', {'aria-label':'Next'}).get('href')\n",
    "        except AttributeError:\n",
    "            break\n",
    "        \n",
    "    # This block of code writes to a CSV file.    \n",
    "    with open('jobs.csv', 'w', newline = '', encoding = 'utf-8') as f:\n",
    "        writer = csv.writer(f)\n",
    "        writer.writerow(['Job Title', 'Company', 'Location', 'Summary', 'Post Date', 'Salary', 'Job Link'])\n",
    "        writer.writerows(records)"
   ]
  },
  {
   "cell_type": "code",
   "execution_count": 6,
   "id": "b176f41e",
   "metadata": {},
   "outputs": [],
   "source": [
    "# Run this function to generate a CSV file with Data Analyst jobs in Chennai, India. \n",
    "# You can change the arguments as you wish as long as the location is in India. \n",
    "# One potential change would be to allow a country argument as well, since Indeed has different URLs for different countries.\n",
    "main_job_postings_information('Data Analyst', 'chennai, tn')"
   ]
  }
 ],
 "metadata": {
  "kernelspec": {
   "display_name": "Python 3 (ipykernel)",
   "language": "python",
   "name": "python3"
  },
  "language_info": {
   "codemirror_mode": {
    "name": "ipython",
    "version": 3
   },
   "file_extension": ".py",
   "mimetype": "text/x-python",
   "name": "python",
   "nbconvert_exporter": "python",
   "pygments_lexer": "ipython3",
   "version": "3.8.8"
  }
 },
 "nbformat": 4,
 "nbformat_minor": 5
}
