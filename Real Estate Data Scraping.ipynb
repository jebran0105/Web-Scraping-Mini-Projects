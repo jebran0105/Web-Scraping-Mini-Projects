{
 "cells": [
  {
   "cell_type": "code",
   "execution_count": 22,
   "id": "b9d7ab64",
   "metadata": {},
   "outputs": [],
   "source": [
    "from bs4 import BeautifulSoup\n",
    "import requests\n",
    "from csv import writer"
   ]
  },
  {
   "cell_type": "code",
   "execution_count": 23,
   "id": "805d7760",
   "metadata": {},
   "outputs": [
    {
     "name": "stdout",
     "output_type": "stream",
     "text": [
      "<Response [200]>\n"
     ]
    }
   ],
   "source": [
    "url = 'https://www.pararius.com/apartments/amsterdam?ac=1'\n",
    "page = requests.get(url)\n",
    "print(page)"
   ]
  },
  {
   "cell_type": "code",
   "execution_count": 25,
   "id": "08a1af57",
   "metadata": {},
   "outputs": [],
   "source": [
    "soup = BeautifulSoup(page.content, 'html.parser')\n",
    "lists = soup.find_all('section', class_= 'listing-search-item')\n",
    "\n",
    "with open('housing_data.csv', mode = 'w', encoding = 'utf8', newline = '') as f:\n",
    "    thewriter = writer(f)\n",
    "    header = ['Title', 'Location', 'Price', 'Area']\n",
    "    thewriter.writerow(header)\n",
    "    \n",
    "    for list in lists:\n",
    "        title = list.find('a', class_= 'listing-search-item__link listing-search-item__link--title').text.replace('\\n', '')\n",
    "        location = list.find('div', class_= 'listing-search-item__location').text.replace('\\n', '')\n",
    "        price = list.find('div', class_= 'listing-search-item__price').text.replace('\\n', '')\n",
    "        area = list.find('li', class_= 'illustrated-features__item illustrated-features__item--surface-area').text.replace('\\n', '')\n",
    "        info = [title, location, price, area]\n",
    "        thewriter.writerow(info)"
   ]
  },
  {
   "cell_type": "code",
   "execution_count": null,
   "id": "2b9605f4",
   "metadata": {},
   "outputs": [],
   "source": []
  }
 ],
 "metadata": {
  "kernelspec": {
   "display_name": "Python 3",
   "language": "python",
   "name": "python3"
  },
  "language_info": {
   "codemirror_mode": {
    "name": "ipython",
    "version": 3
   },
   "file_extension": ".py",
   "mimetype": "text/x-python",
   "name": "python",
   "nbconvert_exporter": "python",
   "pygments_lexer": "ipython3",
   "version": "3.8.8"
  }
 },
 "nbformat": 4,
 "nbformat_minor": 5
}
